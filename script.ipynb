{
 "cells": [
  {
   "cell_type": "markdown",
   "metadata": {},
   "source": [
    "# Copy Test from data"
   ]
  },
  {
   "cell_type": "code",
   "execution_count": 1,
   "metadata": {},
   "outputs": [
    {
     "name": "stdout",
     "output_type": "stream",
     "text": [
      "01_9_11.jpg\n",
      "01_15_18.jpg\n",
      "05_10_11.jpg\n",
      "01_15_16.jpg\n",
      "03_8_9.jpg\n",
      "01_15_19.jpg\n",
      "03_5_9.jpg\n",
      "03_5_14.jpg\n",
      "01_9_12.jpg\n",
      "04_5_10.jpg\n",
      "05_3_13.jpg\n",
      "01_16_6.jpg\n",
      "01_8_15.jpg\n",
      "03_10_8.jpg\n",
      "03_5_11.jpg\n",
      "01_16_17.jpg\n",
      "05_5_8.jpg\n",
      "05_3_12.jpg\n",
      "01_15_10.jpg\n",
      "05_6_11.jpg\n",
      "01_10_9.jpg\n",
      "03_14_7.jpg\n",
      "03_9_7.jpg\n",
      "01_15_9.jpg\n",
      "01_14_18.jpg\n"
     ]
    }
   ],
   "source": [
    "import os\n",
    "import shutil\n",
    "\n",
    "# 读取文件夹中所有图片的名称\n",
    "folder1 = 'Part_test/'\n",
    "folder2 = '/data/public/PATH-DT-MSU/SR_patches_10x_20x_40x/WSS1_test/40x/'\n",
    "data_folder = 'Part_test_ref/'\n",
    "\n",
    "for filename in os.listdir(folder1):\n",
    "    if filename.endswith('.jpg') or filename.endswith('.png'):\n",
    "        # 检查另一个文件夹中是否存在相同名称的图片\n",
    "        print(filename)\n",
    "        if os.path.exists(os.path.join(folder2, filename)):\n",
    "            # 将该图片复制到data文件夹中\n",
    "            shutil.copy(os.path.join(folder2, filename), data_folder)"
   ]
  },
  {
   "attachments": {},
   "cell_type": "markdown",
   "metadata": {},
   "source": [
    "# Caluate entropy of train"
   ]
  },
  {
   "cell_type": "code",
   "execution_count": 1,
   "metadata": {},
   "outputs": [],
   "source": [
    "import os\n",
    "os.chdir('/data/public/PATH-DT-MSU/SR_patches_10x_20x_40x/')"
   ]
  },
  {
   "cell_type": "code",
   "execution_count": 16,
   "metadata": {},
   "outputs": [],
   "source": [
    "train_dir = 'WSS1_train/10x/'\n",
    "ref_dir = 'WSS1_train/40x/'\n",
    "train_dir_2 = 'WSS2_train/10x/'\n",
    "ref_dir_2 = 'WSS2_train/40x/'\n",
    "files = os.listdir(train_dir)\n",
    "images_train = [file for file in files if file.endswith(('jpeg', 'png', 'jpg'))]\n",
    "images_train.sort()\n",
    "files = os.listdir(train_dir_2)\n",
    "images_train_2 = [file for file in files if file.endswith(('jpeg', 'png', 'jpg'))]\n",
    "images_train_2.sort() \n",
    "# images_train[0:100]"
   ]
  },
  {
   "cell_type": "code",
   "execution_count": 3,
   "metadata": {},
   "outputs": [],
   "source": [
    "from tqdm import tqdm \n",
    "import cv2\n",
    "import numpy as np"
   ]
  },
  {
   "cell_type": "code",
   "execution_count": 4,
   "metadata": {},
   "outputs": [],
   "source": [
    "def calculate_entropy(img):\n",
    "    # Convert the image to grayscale\n",
    "    gray = cv2.cvtColor(img, cv2.COLOR_BGR2GRAY)\n",
    "\n",
    "    # Calculate the histogram of the grayscale image\n",
    "    hist, _ = np.histogram(gray.ravel(), bins=256)\n",
    "\n",
    "    # Normalize the histogram\n",
    "    hist = hist / float(np.sum(hist))\n",
    "\n",
    "    # Calculate the entropy using the normalized histogram\n",
    "    entropy = -np.sum([p * np.log2(p) for p in hist.flatten() if p != 0])\n",
    "\n",
    "    return entropy"
   ]
  },
  {
   "cell_type": "code",
   "execution_count": 18,
   "metadata": {},
   "outputs": [
    {
     "name": "stderr",
     "output_type": "stream",
     "text": [
      "100%|██████████| 6386/6386 [00:25<00:00, 251.42it/s]\n",
      "100%|██████████| 24668/24668 [01:52<00:00, 219.38it/s]\n"
     ]
    }
   ],
   "source": [
    "with open('/home/zsun/Forme/Real-ESRGAN-master-2/meta_train.txt', 'w') as f:\n",
    "    i = 0\n",
    "    for lr in tqdm(images_train, total=len(images_train)):\n",
    "        im_lr = cv2.imread(train_dir + lr)\n",
    "        entropy = calculate_entropy(im_lr)\n",
    "        if entropy > 7:\n",
    "            f.write(ref_dir + lr+', '+ train_dir + lr + '\\n')\n",
    "            # print(f'The entropy of the {train_dir + lr} is {entropy:.2f}')\n",
    "        # i += 1\n",
    "        # if i == 100:\n",
    "        #     break\n",
    "    for lr in tqdm(images_train_2, total=len(images_train_2)):\n",
    "        im_lr = cv2.imread(train_dir_2 + lr)\n",
    "        entropy = calculate_entropy(im_lr)\n",
    "        if entropy > 7:\n",
    "            f.write(ref_dir_2 + lr+', '+ train_dir_2 + lr + '\\n')\n",
    "\n",
    "        "
   ]
  },
  {
   "cell_type": "code",
   "execution_count": 7,
   "metadata": {},
   "outputs": [
    {
     "name": "stdout",
     "output_type": "stream",
     "text": [
      "The entropy of the image is 1.81\n"
     ]
    }
   ],
   "source": [
    "im_lr = cv2.imread('/data/public/PATH-DT-MSU/SR_patches_10x_20x_40x/WSS1_test/10x/01_0_12.jpg')\n",
    "im_lr = np.array(im_lr)\n",
    "entropy = calculate_entropy(im_lr)\n",
    "print(f'The entropy of the image is {entropy:.2f}')"
   ]
  },
  {
   "cell_type": "markdown",
   "metadata": {},
   "source": [
    "# Caluate entropy of Test"
   ]
  },
  {
   "cell_type": "code",
   "execution_count": 4,
   "metadata": {},
   "outputs": [],
   "source": [
    "import os\n",
    "os.chdir('/data/public/PATH-DT-MSU/SR_patches_10x_20x_40x/')"
   ]
  },
  {
   "cell_type": "code",
   "execution_count": 6,
   "metadata": {},
   "outputs": [],
   "source": [
    "test_dir = 'WSS1_test/10x/'\n",
    "ref_dir = 'WSS1_test/40x/'\n",
    "test_dir_2 = 'WSS2_test/10x/'\n",
    "ref_dir_2 = 'WSS2_test/40x/'\n",
    "files = os.listdir(test_dir)\n",
    "images_test = [file for file in files if file.endswith(('jpeg', 'png', 'jpg'))]\n",
    "images_test.sort()\n",
    "files = os.listdir(test_dir_2)\n",
    "images_test_2 = [file for file in files if file.endswith(('jpeg', 'png', 'jpg'))]\n",
    "images_test_2.sort() \n",
    "# images_train[0:100]"
   ]
  },
  {
   "cell_type": "code",
   "execution_count": 7,
   "metadata": {},
   "outputs": [],
   "source": [
    "from tqdm import tqdm \n",
    "import cv2\n",
    "import numpy as np\n",
    "def calculate_entropy(img):\n",
    "    # Convert the image to grayscale\n",
    "    gray = cv2.cvtColor(img, cv2.COLOR_BGR2GRAY)\n",
    "\n",
    "    # Calculate the histogram of the grayscale image\n",
    "    hist, _ = np.histogram(gray.ravel(), bins=256)\n",
    "\n",
    "    # Normalize the histogram\n",
    "    hist = hist / float(np.sum(hist))\n",
    "\n",
    "    # Calculate the entropy using the normalized histogram\n",
    "    entropy = -np.sum([p * np.log2(p) for p in hist.flatten() if p != 0])\n",
    "\n",
    "    return entropy"
   ]
  },
  {
   "cell_type": "code",
   "execution_count": 10,
   "metadata": {},
   "outputs": [
    {
     "name": "stderr",
     "output_type": "stream",
     "text": [
      "100%|██████████| 2747/2747 [00:11<00:00, 234.59it/s]\n",
      "100%|██████████| 35205/35205 [02:40<00:00, 219.92it/s]\n"
     ]
    }
   ],
   "source": [
    "with open('/home/zsun/Forme/Real-ESRGAN-master-2/meta_test_double.txt', 'w') as f:\n",
    "    i = 0\n",
    "    for lr in tqdm(images_test, total=len(images_test)):\n",
    "        im_lr = cv2.imread(test_dir + lr)\n",
    "        entropy = calculate_entropy(im_lr)\n",
    "        if entropy > 7:\n",
    "            f.write(ref_dir + lr+', '+ test_dir + lr + '\\n')\n",
    "            # print(f'The entropy of the {train_dir + lr} is {entropy:.2f}')\n",
    "        # i += 1\n",
    "        # if i == 100:\n",
    "        #     break\n",
    "    for lr in tqdm(images_test_2, total=len(images_test_2)):\n",
    "        im_lr = cv2.imread(test_dir_2 + lr)\n",
    "        entropy = calculate_entropy(im_lr)\n",
    "        if entropy > 7:\n",
    "            f.write(ref_dir_2 + lr+', '+ test_dir_2 + lr + '\\n')\n",
    "\n",
    "        "
   ]
  },
  {
   "cell_type": "code",
   "execution_count": null,
   "metadata": {},
   "outputs": [],
   "source": []
  }
 ],
 "metadata": {
  "interpreter": {
   "hash": "4c3d70bcd3b33129d63614064bd09c4d2f77a8afe048830e5aa77872d1856d78"
  },
  "kernelspec": {
   "display_name": "Python 3.8.16 64-bit ('esrgan': conda)",
   "language": "python",
   "name": "python3"
  },
  "language_info": {
   "codemirror_mode": {
    "name": "ipython",
    "version": 3
   },
   "file_extension": ".py",
   "mimetype": "text/x-python",
   "name": "python",
   "nbconvert_exporter": "python",
   "pygments_lexer": "ipython3",
   "version": "3.8.16"
  },
  "orig_nbformat": 4
 },
 "nbformat": 4,
 "nbformat_minor": 2
}
