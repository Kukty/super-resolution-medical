{
 "cells": [
  {
   "cell_type": "code",
   "execution_count": 1,
   "metadata": {},
   "outputs": [],
   "source": [
    "import argparse\n",
    "import cv2\n",
    "import glob\n",
    "import os\n",
    "from basicsr.archs.rrdbnet_arch import RRDBNet\n",
    "from basicsr.utils.download_util import load_file_from_url\n",
    "import numpy as np \n",
    "from realesrgan import RealESRGANer\n",
    "from realesrgan.archs.srvgg_arch import SRVGGNetCompact\n",
    "from tqdm import tqdm "
   ]
  },
  {
   "cell_type": "code",
   "execution_count": 4,
   "metadata": {},
   "outputs": [],
   "source": [
    "def PSNR(im_gt,im_output):\n",
    "    mse = np.mean((im_gt-im_output)**2)\n",
    "    if mse ==0:\n",
    "        psnr = float('inf')\n",
    "    else:\n",
    "        psnr = 10* np.log10(255.0**2/mse)\n",
    "    return psnr"
   ]
  },
  {
   "cell_type": "code",
   "execution_count": 9,
   "metadata": {},
   "outputs": [],
   "source": [
    "import os\n",
    "os.chdir('/data/public/PATH-DT-MSU/SR_patches_10x_20x_40x/')\n",
    "netscale = 4"
   ]
  },
  {
   "cell_type": "code",
   "execution_count": 12,
   "metadata": {},
   "outputs": [
    {
     "name": "stdout",
     "output_type": "stream",
     "text": [
      "[0. 0. 0. 0. 0. 0. 0. 0. 0. 0. 0. 0. 0. 0. 0. 0. 0. 0. 0. 0.]\n"
     ]
    }
   ],
   "source": [
    "iter_list = list(range(5000, 100001, 5000))\n",
    "model_name_list = ['net_g_'+ str(model_name) +'.pth' for model_name in iter_list]\n",
    "# iter_list\n",
    "# print(model_name_list)\n",
    "model_dir = '/home/zsun/Forme/Real-ESRGAN-master-2/experiments/finetune_RealESRGANx4plus_400k_pairdata/models'\n",
    "# model_dir = '/home/zsun/Forme/Real-ESRGAN-master-2/fine-tune_1/models'\n",
    "mean_psnr_list = np.zeros_like(iter_list,dtype=np.float32)\n",
    "print(mean_psnr_list)"
   ]
  },
  {
   "cell_type": "code",
   "execution_count": 20,
   "metadata": {},
   "outputs": [
    {
     "name": "stdout",
     "output_type": "stream",
     "text": [
      "model net_g_5000.pth is created\n"
     ]
    },
    {
     "name": "stderr",
     "output_type": "stream",
     "text": [
      " 27%|██▋       | 929/3457 [08:44<23:43,  1.78it/s]"
     ]
    }
   ],
   "source": [
    "info_path = '/home/zsun/Forme/Real-ESRGAN-master-2/meta_test_double.txt'\n",
    "with open(info_path,'r') as f :\n",
    "    i = 0\n",
    "    for model_name in model_name_list:\n",
    "        model_path = os.path.join(model_dir,model_name)  \n",
    "        model = RRDBNet(num_in_ch=3, num_out_ch=3, num_feat=64, num_block=23, num_grow_ch=32, scale=4)\n",
    "        upsampler = RealESRGANer(\n",
    "            scale=netscale,\n",
    "            model_path=model_path,\n",
    "            dni_weight=None,\n",
    "            model=model,\n",
    "            tile=0,\n",
    "            tile_pad=10,\n",
    "            pre_pad=0,\n",
    "            half=not False,\n",
    "            gpu_id=None)\n",
    "        print(f\"model {model_name} is created\")\n",
    "        sum_psnr = 0\n",
    "        img_paths = [line.strip() for line in f]\n",
    "        for pair_path in tqdm(img_paths,total = len(img_paths)):\n",
    "            ref_path = pair_path.split(', ')[0]\n",
    "            lr_path = pair_path.split(', ')[1]\n",
    "            # print(ref_path,lr_path)\n",
    "            im_ref = cv2.imread(ref_path)\n",
    "            im_lr = cv2.imread(lr_path)\n",
    "            try:\n",
    "                im_output,_ = upsampler.enhance(im_lr,outscale=4)\n",
    "            except RuntimeError as error:\n",
    "                print('Error', error)\n",
    "                print('If you encounter CUDA out of memory, try to set --tile with a smaller number.')\n",
    "            psnr = PSNR(im_gt=im_ref,im_output=im_output)\n",
    "            # print(psnr)\n",
    "            sum_psnr +=psnr\n",
    "            # break\n",
    "        mean_psnr_list[i] = sum_psnr / len(img_paths)\n",
    "        print(mean_psnr_list[i])\n",
    "        i = i+1\n",
    "        break\n",
    "        \n"
   ]
  },
  {
   "cell_type": "code",
   "execution_count": null,
   "metadata": {},
   "outputs": [],
   "source": []
  }
 ],
 "metadata": {
  "kernelspec": {
   "display_name": "esrgan",
   "language": "python",
   "name": "python3"
  },
  "language_info": {
   "codemirror_mode": {
    "name": "ipython",
    "version": 3
   },
   "file_extension": ".py",
   "mimetype": "text/x-python",
   "name": "python",
   "nbconvert_exporter": "python",
   "pygments_lexer": "ipython3",
   "version": "3.8.16"
  },
  "orig_nbformat": 4
 },
 "nbformat": 4,
 "nbformat_minor": 2
}
