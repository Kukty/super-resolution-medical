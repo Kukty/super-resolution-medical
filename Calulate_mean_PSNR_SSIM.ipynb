{
 "cells": [
  {
   "cell_type": "code",
   "execution_count": 1,
   "id": "162b7256",
   "metadata": {},
   "outputs": [],
   "source": [
    "import os\n",
    "\n",
    "path_ref = \"/data/public/PATH-DT-MSU/SR_patches_10x_20x_40x/WSS1_test/40x/\"\n",
    "files = os.listdir(path_ref)\n",
    "images_ref = [file for file in files if file.endswith(('jpeg', 'png', 'jpg'))]\n",
    "images_ref.sort()\n",
    "# print(images_ref)"
   ]
  },
  {
   "cell_type": "code",
   "execution_count": 2,
   "id": "8bc0ccc5",
   "metadata": {},
   "outputs": [],
   "source": [
    "path_res_before = \"res_before_ft_WSS1_test/\"\n",
    "files = os.listdir(path_res_before)\n",
    "images_res_before = [file for file in files if file.endswith(('jpeg', 'png', 'jpg'))]\n",
    "images_res_before.sort()\n",
    "# print(images_res_before)"
   ]
  },
  {
   "cell_type": "code",
   "execution_count": 3,
   "id": "8a13104b",
   "metadata": {},
   "outputs": [],
   "source": [
    "path_res_after = \"res_after_ft_WSS1_test/\"\n",
    "files = os.listdir(path_res_after)\n",
    "images_res_after = [file for file in files if file.endswith(('jpeg', 'png', 'jpg'))]\n",
    "images_res_after.sort()\n",
    "# print(images_res_after)"
   ]
  },
  {
   "cell_type": "code",
   "execution_count": 4,
   "id": "1d71804d",
   "metadata": {},
   "outputs": [],
   "source": [
    "# Caculate mean of PSNR and SSIM of BEFORE"
   ]
  },
  {
   "cell_type": "code",
   "execution_count": null,
   "id": "db371e4d",
   "metadata": {},
   "outputs": [],
   "source": []
  },
  {
   "cell_type": "code",
   "execution_count": 5,
   "id": "3b0a45eb",
   "metadata": {},
   "outputs": [],
   "source": [
    "from skimage.metrics import structural_similarity as ssim\n",
    "import cv2\n",
    "import numpy as np\n",
    "from tqdm import tqdm\n",
    "\n",
    "def Mean_PSNR_SSIM(path_ref, images_ref, path_res, images_res):\n",
    "    sum_psnr = 0\n",
    "    sum_ssim = 0 \n",
    "    max_iter = 1000\n",
    "    iter = 0 \n",
    "    if len(images_ref) != len(images_res):\n",
    "        print(\"Error: The two lists have different lengths.\")\n",
    "    else:\n",
    "        for ref, sr in tqdm(zip(images_ref, images_res), total=len(images_ref), desc=\"Processing images\"):\n",
    "\n",
    "            im_ref = cv2.imread(path_ref + ref)\n",
    "            im_model = cv2.imread(path_res + sr)\n",
    "            im_ref = im_ref[:im_model.shape[0], :im_model.shape[1], :]\n",
    "\n",
    "            # 计算PSNR\n",
    "            mse = np.mean((im_ref - im_model) ** 2)\n",
    "            if mse == 0:\n",
    "                psnr = float('inf')\n",
    "            else:\n",
    "                psnr = 10 * np.log10(255.0 ** 2 / mse)\n",
    "\n",
    "            im_ref = cv2.cvtColor(im_ref, cv2.COLOR_BGR2RGB)\n",
    "            im_model = cv2.cvtColor(im_model, cv2.COLOR_BGR2RGB)\n",
    "\n",
    "            # Compute the Structural Similarity Index (SSIM) between the two images for each color channel\n",
    "            ssim_r = ssim(im_ref[:,:,0], im_model[:,:,0])\n",
    "            ssim_g = ssim(im_ref[:,:,1], im_model[:,:,1])\n",
    "            ssim_b = ssim(im_ref[:,:,2], im_model[:,:,2])\n",
    "\n",
    "            # Average the SSIM values for all channels\n",
    "            ssim_avg = np.mean([ssim_r, ssim_g, ssim_b])\n",
    "\n",
    "            sum_psnr += psnr\n",
    "            sum_ssim += ssim_avg\n",
    "            iter = iter + 1\n",
    "            if iter == max_iter:\n",
    "                break \n",
    "\n",
    "    return sum_psnr / len(images_ref), sum_ssim / len(images_ref)\n"
   ]
  },
  {
   "cell_type": "code",
   "execution_count": 6,
   "id": "b18c2b33",
   "metadata": {},
   "outputs": [
    {
     "name": "stderr",
     "output_type": "stream",
     "text": [
      "Processing images:  36%|███▋      | 999/2747 [33:23<58:26,  2.01s/it]\n"
     ]
    },
    {
     "data": {
      "text/plain": [
       "(10.343339123061343, 0.30731204784478505)"
      ]
     },
     "execution_count": 6,
     "metadata": {},
     "output_type": "execute_result"
    }
   ],
   "source": [
    "Mean_PSNR_SSIM(path_ref,images_ref,path_res_before,images_res_before)"
   ]
  },
  {
   "cell_type": "code",
   "execution_count": 7,
   "id": "1fd3c26e",
   "metadata": {},
   "outputs": [
    {
     "name": "stderr",
     "output_type": "stream",
     "text": [
      "Processing images:  36%|███▋      | 999/2747 [33:22<58:24,  2.00s/it]\n"
     ]
    },
    {
     "data": {
      "text/plain": [
       "(13.26659374411932, 0.3080885933498759)"
      ]
     },
     "execution_count": 7,
     "metadata": {},
     "output_type": "execute_result"
    }
   ],
   "source": [
    "Mean_PSNR_SSIM(path_ref,images_ref,path_res_after,images_res_after)"
   ]
  },
  {
   "cell_type": "code",
   "execution_count": null,
   "id": "9daf724b",
   "metadata": {},
   "outputs": [],
   "source": []
  }
 ],
 "metadata": {
  "kernelspec": {
   "display_name": "Python 3 (ipykernel)",
   "language": "python",
   "name": "python3"
  },
  "language_info": {
   "codemirror_mode": {
    "name": "ipython",
    "version": 3
   },
   "file_extension": ".py",
   "mimetype": "text/x-python",
   "name": "python",
   "nbconvert_exporter": "python",
   "pygments_lexer": "ipython3",
   "version": "3.8.16"
  }
 },
 "nbformat": 4,
 "nbformat_minor": 5
}
